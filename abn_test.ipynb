{
  "nbformat": 4,
  "nbformat_minor": 0,
  "metadata": {
    "colab": {
      "name": "abn_test",
      "provenance": [],
      "collapsed_sections": [],
      "authorship_tag": "ABX9TyOTmg7d4n14Zud8iwy/OcBu",
      "include_colab_link": true
    },
    "kernelspec": {
      "name": "python3",
      "display_name": "Python 3"
    }
  },
  "cells": [
    {
      "cell_type": "markdown",
      "metadata": {
        "id": "view-in-github",
        "colab_type": "text"
      },
      "source": [
        "<a href=\"https://colab.research.google.com/github/miclunetti/dia_part1_pricing/blob/master/abn_test.ipynb\" target=\"_parent\"><img src=\"https://colab.research.google.com/assets/colab-badge.svg\" alt=\"Open In Colab\"/></a>"
      ]
    },
    {
      "cell_type": "code",
      "metadata": {
        "id": "QNUNo0CEUVku",
        "colab_type": "code",
        "colab": {
          "base_uri": "https://localhost:8080/",
          "height": 129
        },
        "outputId": "763b29cb-e7ed-4e32-df74-5b66312886a0"
      },
      "source": [
        "import numpy as np\n",
        "import matplotlib.pyplot as plt\n",
        "from algorithms.a_b_n.data import *\n",
        "\n",
        "p = np.array([0.0263, 0.0193, 0.0129, 0.0061, 0.0012])\n",
        "price = list(range(325, 450, 25))\n",
        "N_A = 10000\n",
        "N_B = 10000\n",
        "ab_data = []\n",
        "best = np.random.randint(0, 5)\n",
        "ab_summary = []\n",
        "\n",
        "for n in range(len(p)):\n",
        "    print(best, n)\n",
        "    if best == n:\n",
        "        continue\n",
        "    ab_data.append(generate_data(N_A, N_B, p[best], p[n], days=365))\n",
        "    print(ab_data)\n",
        "    ab_summary.append(ab_data[n].pivot_table(values='converted', index='group', aggfunc=np.sum))\n",
        "    print(ab_summary)\n",
        "    ab_summary[n]['total'] = ab_data[n].pivot_table(values='converted', index='group', aggfunc=lambda x: len(x))\n",
        "    print(ab_summary)\n",
        "    ab_summary[n]['rate'] = ab_data[n].pivot_table(values='converted', index='group')\n",
        "    print(ab_summary)\n",
        "    if ab_summary[n]['converted'][0] * price[best] < ab_summary[n]['converted'][1] * price[n]:\n",
        "        best = n\n",
        "\n",
        "print(\"Best \", best)\n",
        "total = []\n",
        "converted = []\n",
        "cr = []\n",
        "fig, ax = plt.subplots(figsize=(12, 6))\n",
        "x = []\n",
        "y = []\n",
        "tot = []\n",
        "\n",
        "for n in range(len(p)):\n",
        "    total.append(ab_summary[n]['total'][1])\n",
        "    converted.append(ab_summary[n]['converted'][1])\n",
        "    cr.append(ab_summary[n]['rate'][1])\n",
        "    x.append(np.linspace(converted[n] - 49, converted[n] + 50, 100))\n",
        "    y.append(scs.binom(total[n], cr[n]).pmf(x[n]))\n",
        "    tot.append(converted[n]*price[n])\n",
        "    if n == best:\n",
        "        ax.bar(x[n], y[n], alpha=0.5)\n",
        "    ax.plot(x[n], y[n], alpha=0.5)\n",
        "array_legend = ['Price 325 - Total = ' + str(tot[0]), 'Price 350 - Total = ' + str(tot[1]),\n",
        "                'Price 375 - Total = ' + str(tot[2]), 'Price 400 - Total = ' + str(tot[3]),\n",
        "                'Price 425 - Total = ' + str(tot[4])]\n",
        "ax.legend(array_legend)\n",
        "plt.xlabel('converted')\n",
        "plt.ylabel('probability')\n",
        "plt.show()"
      ],
      "execution_count": null,
      "outputs": [
        {
          "output_type": "error",
          "ename": "IndentationError",
          "evalue": "ignored",
          "traceback": [
            "\u001b[0;36m  File \u001b[0;32m\"<ipython-input-1-772407b22c47>\"\u001b[0;36m, line \u001b[0;32m8\u001b[0m\n\u001b[0;31m    if(i == 0):\u001b[0m\n\u001b[0m     ^\u001b[0m\n\u001b[0;31mIndentationError\u001b[0m\u001b[0;31m:\u001b[0m expected an indented block\n"
          ]
        }
      ]
    }
  ]
}